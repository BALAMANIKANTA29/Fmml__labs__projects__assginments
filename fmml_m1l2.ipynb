{
  "cells": [
    {
      "cell_type": "markdown",
      "metadata": {
        "id": "view-in-github",
        "colab_type": "text"
      },
      "source": [
        "<a href=\"https://colab.research.google.com/github/BALAMANIKANTA29/Fmml__labs__projects__assginments/blob/main/fmml_m1l2.ipynb\" target=\"_parent\"><img src=\"https://colab.research.google.com/assets/colab-badge.svg\" alt=\"Open In Colab\"/></a>"
      ]
    },
    {
      "cell_type": "markdown",
      "metadata": {
        "id": "3Eu9VZbF01eq"
      },
      "source": [
        "# Machine Learning terms and metrics\n",
        "\n",
        "FMML Module 1, Lab 2\n",
        "\n",
        "In this lab, we will show a part of the ML pipeline by using the California Housing dataset. There are 20640 samples, each with 8 attributes like income of the block, age of the houses per district etc. The task is to predict the cost of the houses per district. We will use the scikit-learn library to load the data and perform some basic data preprocessing and model training. We will also show how to evaluate the model using some common metrics, split the data into training and testing sets, and use cross-validation to get a better estimate of the model's performance."
      ]
    },
    {
      "cell_type": "code",
      "execution_count": null,
      "metadata": {
        "id": "8qBvyEem0vLi"
      },
      "outputs": [],
      "source": [
        "import numpy as np\n",
        "from sklearn import datasets\n",
        "import matplotlib.pyplot as plt\n",
        "\n",
        "rng = np.random.default_rng(seed=42)"
      ]
    },
    {
      "cell_type": "code",
      "execution_count": null,
      "metadata": {
        "colab": {
          "base_uri": "https://localhost:8080/"
        },
        "id": "8LpqjN991GGJ",
        "outputId": "e4f517a4-24af-4047-8743-a9aa63f8e10c"
      },
      "outputs": [
        {
          "output_type": "stream",
          "name": "stdout",
          "text": [
            ".. _california_housing_dataset:\n",
            "\n",
            "California Housing dataset\n",
            "--------------------------\n",
            "\n",
            "**Data Set Characteristics:**\n",
            "\n",
            "    :Number of Instances: 20640\n",
            "\n",
            "    :Number of Attributes: 8 numeric, predictive attributes and the target\n",
            "\n",
            "    :Attribute Information:\n",
            "        - MedInc        median income in block group\n",
            "        - HouseAge      median house age in block group\n",
            "        - AveRooms      average number of rooms per household\n",
            "        - AveBedrms     average number of bedrooms per household\n",
            "        - Population    block group population\n",
            "        - AveOccup      average number of household members\n",
            "        - Latitude      block group latitude\n",
            "        - Longitude     block group longitude\n",
            "\n",
            "    :Missing Attribute Values: None\n",
            "\n",
            "This dataset was obtained from the StatLib repository.\n",
            "https://www.dcc.fc.up.pt/~ltorgo/Regression/cal_housing.html\n",
            "\n",
            "The target variable is the median house value for California districts,\n",
            "expressed in hundreds of thousands of dollars ($100,000).\n",
            "\n",
            "This dataset was derived from the 1990 U.S. census, using one row per census\n",
            "block group. A block group is the smallest geographical unit for which the U.S.\n",
            "Census Bureau publishes sample data (a block group typically has a population\n",
            "of 600 to 3,000 people).\n",
            "\n",
            "A household is a group of people residing within a home. Since the average\n",
            "number of rooms and bedrooms in this dataset are provided per household, these\n",
            "columns may take surprisingly large values for block groups with few households\n",
            "and many empty houses, such as vacation resorts.\n",
            "\n",
            "It can be downloaded/loaded using the\n",
            ":func:`sklearn.datasets.fetch_california_housing` function.\n",
            "\n",
            ".. topic:: References\n",
            "\n",
            "    - Pace, R. Kelley and Ronald Barry, Sparse Spatial Autoregressions,\n",
            "      Statistics and Probability Letters, 33 (1997) 291-297\n",
            "\n"
          ]
        }
      ],
      "source": [
        "dataset = datasets.fetch_california_housing()\n",
        "# Dataset description\n",
        "print(dataset.DESCR)"
      ]
    },
    {
      "cell_type": "markdown",
      "metadata": {
        "id": "PCe1VNftevgE"
      },
      "source": [
        "Given below are the list of target values. These correspond to the house value derived considering all the 8 input features and are continuous values. We should use regression models to predict these values but we will start with a simple classification model for the sake of simplicity. We need to just round off the values to the nearest integer and use a classification model to predict the house value."
      ]
    },
    {
      "cell_type": "code",
      "execution_count": null,
      "metadata": {
        "colab": {
          "base_uri": "https://localhost:8080/"
        },
        "id": "F8K0ggBOevgE",
        "outputId": "706fcb53-a640-4f44-9a1e-512bf5c88351"
      },
      "outputs": [
        {
          "output_type": "stream",
          "name": "stdout",
          "text": [
            "Orignal target values: [4.526 3.585 3.521 ... 0.923 0.847 0.894]\n",
            "Target values after conversion: [4 3 3 ... 0 0 0]\n",
            "Input variables shape: (20640, 8)\n",
            "Output variables shape: (20640,)\n"
          ]
        }
      ],
      "source": [
        "print(\"Orignal target values:\", dataset.target)\n",
        "\n",
        "dataset.target = dataset.target.astype(int)\n",
        "\n",
        "print(\"Target values after conversion:\", dataset.target)\n",
        "print(\"Input variables shape:\", dataset.data.shape)\n",
        "print(\"Output variables shape:\", dataset.target.shape)"
      ]
    },
    {
      "cell_type": "markdown",
      "metadata": {
        "id": "iNx4174W5xRg"
      },
      "source": [
        "The simplest model to use for classification is the K-Nearest Neighbors model. We will use this model to predict the house value with a K value of 1. We will also use the accuracy metric to evaluate the model."
      ]
    },
    {
      "cell_type": "code",
      "execution_count": null,
      "metadata": {
        "id": "07zpydQj1hIQ"
      },
      "outputs": [],
      "source": [
        "def NN1(traindata, trainlabel, query):\n",
        "    \"\"\"\n",
        "    This function takes in the training data, training labels and a query point\n",
        "    and returns the predicted label for the query point using the nearest neighbour algorithm\n",
        "\n",
        "    traindata: numpy array of shape (n,d) where n is the number of samples and d is the number of features\n",
        "    trainlabel: numpy array of shape (n,) where n is the number of samples\n",
        "    query: numpy array of shape (d,) where d is the number of features\n",
        "\n",
        "    returns: the predicted label for the query point which is the label of the training data which is closest to the query point\n",
        "    \"\"\"\n",
        "    diff = (\n",
        "        traindata - query\n",
        "    )  # find the difference between features. Numpy automatically takes care of the size here\n",
        "    sq = diff * diff  # square the differences\n",
        "    dist = sq.sum(1)  # add up the squares\n",
        "    label = trainlabel[np.argmin(dist)]\n",
        "    return label\n",
        "\n",
        "\n",
        "def NN(traindata, trainlabel, testdata):\n",
        "    \"\"\"\n",
        "    This function takes in the training data, training labels and test data\n",
        "    and returns the predicted labels for the test data using the nearest neighbour algorithm\n",
        "\n",
        "    traindata: numpy array of shape (n,d) where n is the number of samples and d is the number of features\n",
        "    trainlabel: numpy array of shape (n,) where n is the number of samples\n",
        "    testdata: numpy array of shape (m,d) where m is the number of test samples and d is the number of features\n",
        "\n",
        "    returns: the predicted labels for the test data which is the label of the training data which is closest to each test point\n",
        "    \"\"\"\n",
        "    predlabel = np.array([NN1(traindata, trainlabel, i) for i in testdata])\n",
        "    return predlabel"
      ]
    },
    {
      "cell_type": "markdown",
      "metadata": {
        "id": "03JktkfIGaje"
      },
      "source": [
        "We will also define a 'random classifier', which randomly allots labels to each sample"
      ]
    },
    {
      "cell_type": "code",
      "execution_count": null,
      "metadata": {
        "id": "fogWAtjyGhAH"
      },
      "outputs": [],
      "source": [
        "def RandomClassifier(traindata, trainlabel, testdata):\n",
        "    \"\"\"\n",
        "    This function takes in the training data, training labels and test data\n",
        "    and returns the predicted labels for the test data using the random classifier algorithm\n",
        "\n",
        "    In reality, we don't need these arguments but we are passing them to keep the function signature consistent with other classifiers\n",
        "\n",
        "    traindata: numpy array of shape (n,d) where n is the number of samples and d is the number of features\n",
        "    trainlabel: numpy array of shape (n,) where n is the number of samples\n",
        "    testdata: numpy array of shape (m,d) where m is the number of test samples and d is the number of features\n",
        "\n",
        "    returns: the predicted labels for the test data which is a random label from the training data\n",
        "    \"\"\"\n",
        "\n",
        "    classes = np.unique(trainlabel)\n",
        "    rints = rng.integers(low=0, high=len(classes), size=len(testdata))\n",
        "    predlabel = classes[rints]\n",
        "    return predlabel"
      ]
    },
    {
      "cell_type": "markdown",
      "metadata": {
        "id": "1Hjf1KHs7fU5"
      },
      "source": [
        "We need a metric to evaluate the performance of the model. Let us define a metric 'Accuracy' to see how good our learning algorithm is. Accuracy is the ratio of the number of correctly classified samples to the total number of samples. The higher the accuracy, the better the algorithm. We will use the accuracy metric to evaluate and compate the performance of the K-Nearest Neighbors model and the random classifier."
      ]
    },
    {
      "cell_type": "code",
      "execution_count": null,
      "metadata": {
        "id": "ouuCqWU07bz-"
      },
      "outputs": [],
      "source": [
        "def Accuracy(gtlabel, predlabel):\n",
        "    \"\"\"\n",
        "    This function takes in the ground-truth labels and predicted labels\n",
        "    and returns the accuracy of the classifier\n",
        "\n",
        "    gtlabel: numpy array of shape (n,) where n is the number of samples\n",
        "    predlabel: numpy array of shape (n,) where n is the number of samples\n",
        "\n",
        "    returns: the accuracy of the classifier which is the number of correct predictions divided by the total number of predictions\n",
        "    \"\"\"\n",
        "    assert len(gtlabel) == len(\n",
        "        predlabel\n",
        "    ), \"Length of the ground-truth labels and predicted labels should be the same\"\n",
        "    correct = (\n",
        "        gtlabel == predlabel\n",
        "    ).sum()  # count the number of times the groundtruth label is equal to the predicted label.\n",
        "    return correct / len(gtlabel)"
      ]
    },
    {
      "cell_type": "markdown",
      "metadata": {
        "id": "4vJFwBFa9Klw"
      },
      "source": [
        "Let us make a function to split the dataset with the desired probability. We will use this function to split the dataset into training and testing sets. We will use the training set to train the model and the testing set to evaluate the model."
      ]
    },
    {
      "cell_type": "code",
      "execution_count": null,
      "metadata": {
        "id": "Ko0VzpSM2Tdi"
      },
      "outputs": [],
      "source": [
        "def split(data, label, percent):\n",
        "    # generate a random number for each sample\n",
        "    rnd = rng.random(len(label))\n",
        "    split1 = rnd < percent\n",
        "    split2 = rnd >= percent\n",
        "\n",
        "    split1data = data[split1, :]\n",
        "    split1label = label[split1]\n",
        "    split2data = data[split2, :]\n",
        "    split2label = label[split2]\n",
        "    return split1data, split1label, split2data, split2label"
      ]
    },
    {
      "cell_type": "markdown",
      "metadata": {
        "id": "AcK3LEAJ_LGC"
      },
      "source": [
        "We will reserve 20% of our dataset as the test set. We will not change this portion throughout our experiments"
      ]
    },
    {
      "cell_type": "code",
      "execution_count": null,
      "metadata": {
        "colab": {
          "base_uri": "https://localhost:8080/"
        },
        "id": "bBZkHBLJ1iU-",
        "outputId": "8602d644-ce8d-4b7e-8082-5eb5ab4b83ef"
      },
      "outputs": [
        {
          "output_type": "stream",
          "name": "stdout",
          "text": [
            "Number of test samples: 4144\n",
            "Number of train samples: 16496\n",
            "Percent of test data: 20.07751937984496 %\n"
          ]
        }
      ],
      "source": [
        "testdata, testlabel, alltraindata, alltrainlabel = split(\n",
        "    dataset.data, dataset.target, 20 / 100\n",
        ")\n",
        "print(\"Number of test samples:\", len(testlabel))\n",
        "print(\"Number of train samples:\", len(alltrainlabel))\n",
        "print(\"Percent of test data:\", len(testlabel) * 100 / len(dataset.target), \"%\")"
      ]
    },
    {
      "cell_type": "markdown",
      "metadata": {
        "id": "a6Ss0Z6IAGNV"
      },
      "source": [
        "## Experiments with splits\n",
        "\n",
        "Let us reserve some of our train data as a validation set"
      ]
    },
    {
      "cell_type": "code",
      "execution_count": null,
      "metadata": {
        "id": "WFew2iry_7W7"
      },
      "outputs": [],
      "source": [
        "traindata, trainlabel, valdata, vallabel = split(\n",
        "    alltraindata, alltrainlabel, 75 / 100)"
      ]
    },
    {
      "cell_type": "markdown",
      "metadata": {
        "id": "60hiu4clFN1i"
      },
      "source": [
        "What is the accuracy of our classifiers on the train dataset?"
      ]
    },
    {
      "cell_type": "code",
      "execution_count": null,
      "metadata": {
        "colab": {
          "base_uri": "https://localhost:8080/"
        },
        "id": "DBlZDTHUFTZx",
        "outputId": "479ed326-f399-48e2-fa6a-da5cfb02d1db"
      },
      "outputs": [
        {
          "output_type": "stream",
          "name": "stdout",
          "text": [
            "Training accuracy using nearest neighbour algorithm: 100.0 %\n",
            "Training accuracy using random classifier:  16.4375808538163 %\n"
          ]
        }
      ],
      "source": [
        "trainpred = NN(traindata, trainlabel, traindata)\n",
        "trainAccuracy = Accuracy(trainlabel, trainpred)\n",
        "print(\"Training accuracy using nearest neighbour algorithm:\", trainAccuracy*100, \"%\")\n",
        "\n",
        "trainpred = RandomClassifier(traindata, trainlabel, traindata)\n",
        "trainAccuracy = Accuracy(trainlabel, trainpred)\n",
        "print(\"Training accuracy using random classifier: \", trainAccuracy*100, \"%\")"
      ]
    },
    {
      "cell_type": "markdown",
      "metadata": {
        "id": "7h08-9gJDtSy"
      },
      "source": [
        "For nearest neighbour, the train accuracy is always 1. The accuracy of the random classifier is close to 1/(number of classes) which is 0.1666 in our case. This is because the random classifier randomly assigns a label to each sample and the probability of assigning the correct label is 1/(number of classes). Let us predict the labels for our validation set and get the accuracy. This accuracy is a good estimate of the accuracy of our model on unseen data."
      ]
    },
    {
      "cell_type": "code",
      "execution_count": null,
      "metadata": {
        "colab": {
          "base_uri": "https://localhost:8080/"
        },
        "id": "4h7bXoW_2H3v",
        "outputId": "29e1cb17-2d6c-4ae5-90e7-e5df38068092"
      },
      "outputs": [
        {
          "output_type": "stream",
          "name": "stdout",
          "text": [
            "Validation accuracy using nearest neighbour algorithm: 34.10852713178294 %\n",
            "Validation accuracy using random classifier: 16.884689922480618 %\n"
          ]
        }
      ],
      "source": [
        "valpred = NN(traindata, trainlabel, valdata)\n",
        "valAccuracy = Accuracy(vallabel, valpred)\n",
        "print(\"Validation accuracy using nearest neighbour algorithm:\", valAccuracy*100, \"%\")\n",
        "\n",
        "\n",
        "valpred = RandomClassifier(traindata, trainlabel, valdata)\n",
        "valAccuracy = Accuracy(vallabel, valpred)\n",
        "print(\"Validation accuracy using random classifier:\", valAccuracy*100, \"%\")"
      ]
    },
    {
      "cell_type": "markdown",
      "metadata": {
        "id": "py9bLguFEjfg"
      },
      "source": [
        "Validation accuracy of nearest neighbour is considerably less than its train accuracy while the validation accuracy of random classifier is the same. However, the validation accuracy of nearest neighbour is twice that of the random classifier. Now let us try another random split and check the validation accuracy. We will see that the validation accuracy changes with the split. This is because the validation set is small and the accuracy is highly dependent on the samples in the validation set. We can get a better estimate of the accuracy by using cross-validation."
      ]
    },
    {
      "cell_type": "code",
      "execution_count": null,
      "metadata": {
        "colab": {
          "base_uri": "https://localhost:8080/"
        },
        "id": "ujm3cyYzEntE",
        "outputId": "d569a5f0-c458-4151-f2e1-e68afceb77e4"
      },
      "outputs": [
        {
          "output_type": "stream",
          "name": "stdout",
          "text": [
            "Validation accuracy using nearest neighbour algorithm: 34.048257372654156 %\n"
          ]
        }
      ],
      "source": [
        "traindata, trainlabel, valdata, vallabel = split(\n",
        "    alltraindata, alltrainlabel, 75 / 100)\n",
        "valpred = NN(traindata, trainlabel, valdata)\n",
        "valAccuracy = Accuracy(vallabel, valpred)\n",
        "print(\"Validation accuracy using nearest neighbour algorithm:\", valAccuracy*100, \"%\")"
      ]
    },
    {
      "cell_type": "markdown",
      "metadata": {
        "id": "oSOx7U83EKie"
      },
      "source": [
        "You can run the above cell multiple times to try with different random splits.\n",
        "We notice that the accuracy is different for each run, but close together.\n",
        "\n",
        "Now let us compare it with the accuracy we get on the test dataset."
      ]
    },
    {
      "cell_type": "code",
      "execution_count": null,
      "metadata": {
        "colab": {
          "base_uri": "https://localhost:8080/"
        },
        "id": "PNEZ5ToYBEDW",
        "outputId": "bbfd24c1-8edb-4e70-e31d-60f892427868"
      },
      "outputs": [
        {
          "output_type": "stream",
          "name": "stdout",
          "text": [
            "Test accuracy: 34.91795366795367 %\n"
          ]
        }
      ],
      "source": [
        "testpred = NN(alltraindata, alltrainlabel, testdata)\n",
        "testAccuracy = Accuracy(testlabel, testpred)\n",
        "\n",
        "print(\"Test accuracy:\", testAccuracy*100, \"%\")"
      ]
    },
    {
      "cell_type": "markdown",
      "metadata": {
        "id": "w3dGD531K3gH"
      },
      "source": [
        "### Try it out for yourself and answer:\n",
        "1. How is the accuracy of the validation set affected if we increase the percentage of validation set? What happens when we reduce it?\n",
        "2. How does the size of the train and validation set affect how well we can predict the accuracy on the test set using the validation set?\n",
        "3. What do you think is a good percentage to reserve for the validation set so that thest two factors are balanced?\n",
        "\n",
        "Answer for both nearest neighbour and random classifier. You can note down the values for your experiments and plot a graph using  <a href=https://matplotlib.org/stable/gallery/lines_bars_and_markers/step_demo.html#sphx-glr-gallery-lines-bars-and-markers-step-demo-py>plt.plot<href>. Check also for extreme values for splits, like 99.9% or 0.1%"
      ]
    },
    {
      "cell_type": "markdown",
      "metadata": {
        "id": "M9zvdYY6evgI"
      },
      "source": [
        "> Exercise: Try to implement a 3 nearest neighbour classifier and compare the accuracy of the 1 nearest neighbour classifier and the 3 nearest neighbour classifier on the test dataset. You can use the KNeighborsClassifier class from the scikit-learn library to implement the K-Nearest Neighbors model. You can set the number of neighbors using the n_neighbors parameter. You can also use the accuracy_score function from the scikit-learn library to calculate the accuracy of the model."
      ]
    },
    {
      "cell_type": "markdown",
      "metadata": {
        "id": "PnYvkAZLQY7h"
      },
      "source": [
        "## Multiple Splits\n",
        "\n",
        "One way to get more accurate estimates for the test accuracy is by using <b>cross-validation</b>. Here, we will try a simple version, where we do multiple train/val splits and take the average of validation accuracies as the test accuracy estimation. Here is a function for doing this. Note that this function will take a long time to execute. You can reduce the number of splits to make it faster."
      ]
    },
    {
      "cell_type": "code",
      "execution_count": null,
      "metadata": {
        "id": "E4nGCUQXBTzo"
      },
      "outputs": [],
      "source": [
        "def AverageAccuracy(alldata, alllabel, splitpercent, iterations, classifier=NN):\n",
        "    \"\"\"\n",
        "    This function takes in the data, labels, split percentage, number of iterations and classifier function\n",
        "    and returns the average accuracy of the classifier\n",
        "\n",
        "    alldata: numpy array of shape (n,d) where n is the number of samples and d is the number of features\n",
        "    alllabel: numpy array of shape (n,) where n is the number of samples\n",
        "    splitpercent: float which is the percentage of data to be used for training\n",
        "    iterations: int which is the number of iterations to run the classifier\n",
        "    classifier: function which is the classifier function to be used\n",
        "\n",
        "    returns: the average accuracy of the classifier\n",
        "    \"\"\"\n",
        "    accuracy = 0\n",
        "    for ii in range(iterations):\n",
        "        traindata, trainlabel, valdata, vallabel = split(\n",
        "            alldata, alllabel, splitpercent\n",
        "        )\n",
        "        valpred = classifier(traindata, trainlabel, valdata)\n",
        "        accuracy += Accuracy(vallabel, valpred)\n",
        "    return accuracy / iterations  # average of all accuracies"
      ]
    },
    {
      "cell_type": "code",
      "execution_count": null,
      "metadata": {
        "colab": {
          "base_uri": "https://localhost:8080/"
        },
        "id": "H3qtNar7Bbik",
        "outputId": "6409520d-3702-4e01-942c-afb1e32a76d8"
      },
      "outputs": [
        {
          "output_type": "stream",
          "name": "stdout",
          "text": [
            "Average validation accuracy: 33.58463539517022 %\n",
            "Test accuracy: 34.91795366795367 %\n"
          ]
        }
      ],
      "source": [
        "avg_acc = AverageAccuracy(alltraindata, alltrainlabel, 75 / 100, 10, classifier=NN)\n",
        "print(\"Average validation accuracy:\", avg_acc*100, \"%\")\n",
        "testpred = NN(alltraindata, alltrainlabel, testdata)\n",
        "\n",
        "print(\"Test accuracy:\", Accuracy(testlabel, testpred)*100, \"%\")"
      ]
    },
    {
      "cell_type": "markdown",
      "metadata": {
        "id": "33GIn4x5VH-d"
      },
      "source": [
        "Yes, averaging the validation accuracy across multiple splits typically leads to more consistent and reliable results. This approach is commonly known as cross-validation. Here's why it helps:\n",
        "\n",
        "1. Reduces Variance:\n",
        "\n",
        "When you split your dataset into training and validation sets only once (e.g., a single train-test split), the model’s performance can depend heavily on that specific split. If the split is not representative of the overall dataset (e.g., one split might have more difficult examples than another), the accuracy could be biased.\n",
        "\n",
        "By averaging the accuracy over multiple splits, such as in k-fold cross-validation, you reduce the effect of any single \"lucky\" or \"unlucky\" split, leading to more robust results.\n",
        "\n",
        "\n",
        "2. Generalization:\n",
        "\n",
        "Multiple splits ensure that the model sees all the data points for training and validation at some point. This means you’re testing the model's ability to generalize across the entire dataset rather than just one subset.\n",
        "\n",
        "For example, in k-fold cross-validation, the dataset is split into k equally sized subsets. Each subset serves as the validation set once while the model trains on the other k-1 subsets. This ensures that the final averaged accuracy reflects the model’s performance across the entire dataset.\n",
        "\n",
        "\n",
        "3. Handles Data Imbalance:\n",
        "\n",
        "If you have an imbalanced dataset, a single split might not capture the full range of the minority class. Cross-validation helps by ensuring that different parts of the data are used both in training and validation, which can lead to more reliable accuracy estimates.\n",
        "\n",
        "4. Statistical Stability:\n",
        "\n",
        "Averaging accuracy across multiple splits provides a more statistically stable estimate of the model’s performance, smoothing out random fluctuations due to overfitting or underfitting on certain subsets.\n",
        "\n",
        "Example: K-Fold Cross-Validation\n",
        "\n",
        "In a standard k-fold cross-validation:\n",
        "\n",
        "1. Split the data into k equal subsets.\n",
        "\n",
        "\n",
        "2. Train the model k times, each time leaving one subset out as the validation set and training on the remaining k-1 subsets.\n",
        "\n",
        "\n",
        "3. Calculate the accuracy for each of the k splits.\n",
        "\n",
        "\n",
        "4. Average the accuracies to get a final performance metric.\n",
        "\n",
        "\n",
        "\n",
        "This approach often gives a more realistic sense of how the model will perform on unseen data.\n",
        "\n",
        "Cons:\n",
        "\n",
        "Time: Cross-validation can be computationally expensive, especially for large datasets or complex models, since the model has to be trained multiple times.\n",
        "\n",
        "Overfitting: If not done carefully (e.g., using the same data for feature selection before cross-validation), it could still lead to some overfitting.\n",
        "\n",
        "\n",
        "Would you like to see an example using cross-validation on the MNIST dataset or any other specific dataset? I can walk you through the steps or run a demonstration!\n",
        "\n",
        "This is a very simple way of doing cross-validation. There are many well-known algorithms for cross-validation, like k-fold cross-validation, leave-one-out etc. This will be covered in detail in a later module. For more information about cross-validation, check <a href=https://en.wikipedia.org/wiki/Cross-validation_(statistics)>Cross-validatioin (Wikipedia)</a>\n",
        "\n",
        "### Questions\n",
        "1. Does averaging the validation accuracy across multiple splits give more consistent results?\n",
        "2. Does it give more accurate estimate of test accuracy?\n",
        "3. What is the effect of the number of iterations on the estimate? Do we get a better estimate with higher iterations?\n",
        "4. Consider the results you got for the previous questions. Can we deal with a very small train dataset or validation dataset by increasing the iterations?"
      ]
    },
    {
      "cell_type": "markdown",
      "source": [
        "Yes, averaging validation accuracy across multiple splits, like in cross-validation, generally provides a more accurate and reliable estimate of test accuracy for several reasons:\n",
        "\n",
        "1. Better Estimate of Model Generalization:\n",
        "\n",
        "Cross-validation (e.g., k-fold cross-validation) evaluates the model on different portions of the data, ensuring that the model's performance is not biased by a single train-test split. Since every data point gets used in both training and validation at some point, the result is a more reliable estimate of how the model will perform on unseen (test) data.\n",
        "\n",
        "This process mimics the model's behavior on new data by averaging performance across different splits, capturing a wider range of potential data variations.\n",
        "\n",
        "\n",
        "2. Less Variability:\n",
        "\n",
        "A single train-test split can produce a high variance estimate due to random selection of data. Some splits may contain easier or more difficult examples, which skews the accuracy. Cross-validation reduces this variability by averaging the results across multiple splits, leading to more consistent and representative estimates of test accuracy.\n",
        "\n",
        "\n",
        "3. Reduced Risk of Overfitting:\n",
        "\n",
        "When training on a single split, the model might overfit to that particular train set. Cross-validation helps reduce the chance of overfitting by testing the model on multiple, different validation sets.\n",
        "\n",
        "With more training and validation cycles, the averaged accuracy more closely reflects the model's true generalization ability, which typically aligns better with test performance.\n",
        "\n",
        "\n",
        "4. Mitigating the Risk of Underfitting:\n",
        "\n",
        "If a single split has an underrepresented pattern or class, it might not capture the complete distribution of the data, leading to underfitting and lower performance. By spreading the data across multiple splits in cross-validation, the model learns from a more representative dataset.\n",
        "\n",
        "\n",
        "5. Test Accuracy Estimation in Different Scenarios:\n",
        "\n",
        "When Data is Limited: In scenarios where the dataset is small, cross-validation maximizes the use of the data. Training on as much data as possible improves the accuracy estimation for the test set since the model has more exposure to patterns within the data.\n",
        "\n",
        "With Large Datasets: Even for large datasets, cross-validation improves the stability of the accuracy estimate, especially if the data has inherent variability (e.g., MNIST digits can have slight variations depending on style, thickness, etc.).\n",
        "\n",
        "\n",
        "6. Practical Outcomes:\n",
        "\n",
        "Studies and practical experiments often show that cross-validation produces estimates that are closer to the actual test accuracy than single-split evaluations. Although the cross-validation accuracy might not perfectly match the test accuracy, it usually falls within a narrower range and is more robust.\n",
        "\n",
        "Limitations:\n",
        "\n",
        "Computational Cost: Cross-validation requires training the model multiple times, which can be expensive, especially for large datasets or complex models. However, this trade-off is usually worth it for a more accurate and reliable estimate.\n",
        "\n",
        "Still Needs a Separate Test Set: It's important to note that cross-validation estimates validation accuracy, not test accuracy. You should still keep a separate test set to evaluate the final model and ensure it’s completely unseen by the model during both training and validation.\n",
        "\n",
        "\n",
        "Conclusion:\n",
        "\n",
        "In summary, cross-validation gives a more accurate estimate of test accuracy compared to using a single split. It mitigates the impact of random splits, improves generalization, and provides a better understanding of how the model might perform on unseen data.\n",
        "\n",
        "Would you like to see an example implementation or further details about cross-validation techniques?"
      ],
      "metadata": {
        "id": "7zVxHJXoMRcu"
      }
    },
    {
      "cell_type": "markdown",
      "source": [
        "Yes, increasing the number of iterations in cross-validation (or any iterative validation process) generally leads to a more accurate and stable estimate of test accuracy. However, the relationship between the number of iterations and the quality of the estimate is not linear, and there are diminishing returns after a certain point. Let's break this down:\n",
        "\n",
        "1. More Iterations Reduce Variability\n",
        "\n",
        "With more iterations, the model is trained and validated on different random splits of the data multiple times. This reduces the variability in the accuracy estimate caused by any particular random split.\n",
        "\n",
        "Higher iterations allow the model to experience a wider variety of data configurations, making the final accuracy estimate more robust to fluctuations caused by the randomness in the data.\n",
        "\n",
        "\n",
        "2. More Iterations Lead to a More Stable Estimate\n",
        "\n",
        "The more times you train and test the model, the closer the average accuracy estimate gets to the true generalization performance of the model.\n",
        "\n",
        "This is based on the law of large numbers, where, as the number of trials increases, the average result becomes closer to the expected value.\n",
        "\n",
        "In cross-validation, this would mean that with more iterations (or folds in k-fold cross-validation), the accuracy estimate stabilizes and converges toward the true test accuracy of the model.\n",
        "\n",
        "\n",
        "3. Diminishing Returns\n",
        "\n",
        "After a certain point, increasing the number of iterations yields diminishing returns. Once the accuracy estimate stabilizes, adding more iterations improves the estimate only slightly.\n",
        "\n",
        "For instance, in k-fold cross-validation, increasing the value of k (e.g., from 5 to 10 folds) improves the estimate but at a slower rate. The estimate might not improve significantly from 10-fold to 20-fold.\n",
        "\n",
        "The trade-off here is that while more iterations lead to better estimates, the computational cost increases significantly because the model must be trained multiple times.\n",
        "\n",
        "\n",
        "4. Trade-off Between Accuracy and Computational Cost\n",
        "\n",
        "While more iterations lead to better estimates, they also require more computational resources and time, especially for large datasets or complex models. The choice of the number of iterations should balance improved estimate accuracy and the available computational power.\n",
        "\n",
        "In most cases, values like 5-fold or 10-fold cross-validation are widely used because they provide a good balance between estimate accuracy and computation time.\n",
        "\n",
        "\n",
        "5. Effect on Bias and Variance\n",
        "\n",
        "Increasing the number of iterations can reduce the variance of the accuracy estimate. This is because more iterations smooth out the randomness of each individual split.\n",
        "\n",
        "However, increasing the number of iterations does not reduce bias. The bias is determined by the model itself and the quality of the data. If the model consistently performs poorly on every fold, more iterations won’t help; instead, the model needs to be improved (e.g., by tuning hyperparameters or improving feature selection).\n",
        "\n",
        "\n",
        "6. Monte Carlo Cross-Validation\n",
        "\n",
        "In Monte Carlo cross-validation (or repeated random subsampling validation), multiple random train-test splits are generated, and the model is trained and evaluated on these splits repeatedly.\n",
        "\n",
        "This method can be repeated indefinitely, and increasing the number of iterations leads to more accurate estimates, but again, the improvement diminishes with more iterations.\n",
        "\n",
        "\n",
        "7. Stratified Cross-Validation and Number of Iterations\n",
        "\n",
        "If the dataset is imbalanced, using stratified cross-validation with more iterations can also improve the estimate. By ensuring that each split maintains the same class distribution, the model gets a better estimate of its performance across different class distributions.\n",
        "\n",
        "More iterations here allow for more robust accuracy estimates across both the majority and minority classes.\n",
        "\n",
        "\n",
        "When Do More Iterations Help?\n",
        "\n",
        "Small Datasets: More iterations help a lot with small datasets because each split can vary significantly. More iterations reduce the chance that any particular split skews the estimate.\n",
        "\n",
        "High Variability in Data: If the data is noisy or has high variance, more iterations ensure the model has seen a wide variety of data and gives a more reliable performance estimate.\n",
        "\n",
        "Less Computational Cost Concerns: If computational cost is not a major concern, increasing the number of iterations can lead to a more reliable estimate of accuracy.\n",
        "\n",
        "\n",
        "Summary:\n",
        "\n",
        "More iterations generally provide a more accurate and stable estimate of test accuracy.\n",
        "\n",
        "However, after a certain point, the benefit diminishes, and you need to balance between improving the estimate and the computational cost.\n",
        "\n",
        "Typically, 5-fold or 10-fold cross-validation is sufficient for most practical applications, but you can increase iterations further if you're working with noisy data, small datasets, or if computational cost is not an issue.\n",
        "\n",
        "\n",
        "Would you like me to demonstrate this effect with a practical example or a specific dataset?"
      ],
      "metadata": {
        "id": "dHPDrBaHMp8s"
      }
    },
    {
      "cell_type": "markdown",
      "source": [
        "Yes, increasing the number of iterations, such as in cross-validation or repeated subsampling, can help when working with small training or validation datasets. However, there are important nuances and limitations to consider.\n",
        "\n",
        "How Increasing Iterations Helps with Small Datasets:\n",
        "\n",
        "1. Maximizes Data Utilization:\n",
        "\n",
        "With a small dataset, you risk having unrepresentative splits when you use a single train-test split. Cross-validation, particularly k-fold cross-validation, allows the model to train and validate on different parts of the dataset, thereby making the most of the limited data.\n",
        "\n",
        "By increasing the number of iterations, each data point will be used multiple times for both training and validation, which helps the model generalize better compared to a single split where some data points may never be used in training or validation.\n",
        "\n",
        "\n",
        "\n",
        "2. Reduces the Effect of Outliers:\n",
        "\n",
        "In small datasets, individual outliers or rare examples can disproportionately influence the model when included in a training or validation set. By increasing the number of iterations, you smooth out the influence of such outliers because they won’t dominate the result in every iteration.\n",
        "\n",
        "\n",
        "\n",
        "3. More Representative Validation:\n",
        "\n",
        "A small validation set might not be representative of the overall distribution, leading to unstable or misleading accuracy estimates. By repeatedly validating the model on different portions of the data (using k-fold or Monte Carlo cross-validation), you reduce the chance that a particularly lucky or unlucky validation set skews the performance estimate.\n",
        "\n",
        "For example, in Monte Carlo cross-validation, repeated random splits of the data ensure the model sees different train-test configurations, leading to a more robust measure of validation accuracy.\n",
        "\n",
        "\n",
        "\n",
        "4. Better Generalization:\n",
        "\n",
        "With a small training set, the model may not capture the complete distribution of the data. Repeating the process with multiple iterations allows the model to train on different combinations of the data, exposing it to more variability and reducing overfitting to a specific subset of the small dataset.\n",
        "\n",
        "\n",
        "\n",
        "\n",
        "Limitations of Increasing Iterations with Small Datasets:\n",
        "\n",
        "1. Bias Remains:\n",
        "\n",
        "While more iterations help stabilize the variance of the model’s performance, it doesn't necessarily improve the bias of the model. If the small dataset does not contain enough relevant information, the model may still underperform regardless of how many iterations you run. The model can only learn as much as the data allows.\n",
        "\n",
        "This means that increasing iterations doesn't compensate for a lack of data diversity or quality.\n",
        "\n",
        "\n",
        "\n",
        "2. Computational Cost:\n",
        "\n",
        "Cross-validation, particularly with a higher number of folds or iterations, can be computationally expensive, especially if the model is complex. For small datasets, this may not be a significant concern, but if you have a very large model (e.g., a deep neural network), repeating training many times may become impractical.\n",
        "\n",
        "\n",
        "\n",
        "3. Overfitting Risk:\n",
        "\n",
        "With very small datasets, the model may overfit to the training data, especially when validation sets are small as well. Cross-validation reduces overfitting by exposing the model to different splits, but if the training data itself is too small to capture the underlying patterns, the model may still overfit regardless of the number of iterations.\n",
        "\n",
        "\n",
        "\n",
        "4. The Curse of Small Validation Sets:\n",
        "\n",
        "Even with cross-validation, each fold will still have a small validation set if the overall dataset is small. While more iterations help reduce variability, there’s a limit to how much you can improve performance estimates when the validation set is small and potentially unrepresentative. This is particularly true for high-variance models.\n",
        "\n",
        "\n",
        "\n",
        "\n",
        "Strategies for Very Small Datasets Beyond Increasing Iterations:\n",
        "\n",
        "While increasing iterations can help stabilize performance estimates, there are other strategies you can use to better deal with very small datasets:\n",
        "\n",
        "1. Data Augmentation:\n",
        "\n",
        "For datasets like images (e.g., MNIST), you can apply data augmentation techniques to artificially increase the size of your training dataset by generating variations of the data (e.g., rotations, scaling, shifting).\n",
        "\n",
        "\n",
        "\n",
        "2. Transfer Learning:\n",
        "\n",
        "If the dataset is small, consider using a pre-trained model (e.g., from a large dataset like ImageNet) and fine-tuning it on your small dataset. This allows you to leverage learned features from larger datasets, improving the model’s performance on limited data.\n",
        "\n",
        "\n",
        "\n",
        "3. Regularization:\n",
        "\n",
        "Use regularization techniques such as L2 regularization, dropout, or early stopping to prevent overfitting when training on small datasets.\n",
        "\n",
        "\n",
        "\n",
        "4. Bootstrapping:\n",
        "\n",
        "Instead of cross-validation, you can use bootstrapping, where you sample the training data with replacement, allowing you to create multiple training sets. This can be especially helpful in situations where the"
      ],
      "metadata": {
        "id": "ir6S7VAaNCqb"
      }
    },
    {
      "cell_type": "markdown",
      "metadata": {
        "id": "z-SBxy1qevgJ"
      },
      "source": [
        "> Exercise: How does the accuracy of the 3 nearest neighbour classifier change with the number of splits? How is it affected by the split size? Compare the results with the 1 nearest neighbour classifier."
      ]
    }
  ],
  "metadata": {
    "colab": {
      "provenance": [],
      "include_colab_link": true
    },
    "kernelspec": {
      "display_name": "Python 3",
      "name": "python3"
    },
    "language_info": {
      "codemirror_mode": {
        "name": "ipython",
        "version": 3
      },
      "file_extension": ".py",
      "mimetype": "text/x-python",
      "name": "python",
      "nbconvert_exporter": "python",
      "pygments_lexer": "ipython3",
      "version": "3.10.10"
    }
  },
  "nbformat": 4,
  "nbformat_minor": 0
}